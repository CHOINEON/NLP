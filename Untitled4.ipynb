{
 "cells": [
  {
   "cell_type": "code",
   "execution_count": 1,
   "id": "0c5e1dcd",
   "metadata": {},
   "outputs": [
    {
     "name": "stdout",
     "output_type": "stream",
     "text": [
      "Requirement already satisfied: konlpy in ./opt/anaconda3/lib/python3.8/site-packages (0.6.0)\n",
      "Requirement already satisfied: JPype1>=0.7.0 in ./opt/anaconda3/lib/python3.8/site-packages (from konlpy) (1.4.0)\n",
      "Requirement already satisfied: lxml>=4.1.0 in ./opt/anaconda3/lib/python3.8/site-packages (from konlpy) (4.6.3)\n",
      "Requirement already satisfied: numpy>=1.6 in ./.local/lib/python3.8/site-packages (from konlpy) (1.22.4)\n",
      "Note: you may need to restart the kernel to use updated packages.\n"
     ]
    }
   ],
   "source": [
    "pip install konlpy\n"
   ]
  },
  {
   "cell_type": "code",
   "execution_count": 2,
   "id": "5384f7d7",
   "metadata": {},
   "outputs": [
    {
     "name": "stdout",
     "output_type": "stream",
     "text": [
      "Collecting gensim\n",
      "  Downloading gensim-4.2.0-cp38-cp38-macosx_10_9_x86_64.whl (24.0 MB)\n",
      "\u001b[K     |████████████████████████████████| 24.0 MB 502 kB/s eta 0:00:01\n",
      "\u001b[?25hCollecting smart-open>=1.8.1\n",
      "  Downloading smart_open-6.0.0-py3-none-any.whl (58 kB)\n",
      "\u001b[K     |████████████████████████████████| 58 kB 732 kB/s eta 0:00:01\n",
      "\u001b[?25hRequirement already satisfied: numpy>=1.17.0 in ./.local/lib/python3.8/site-packages (from gensim) (1.22.4)\n",
      "Requirement already satisfied: scipy>=0.18.1 in ./opt/anaconda3/lib/python3.8/site-packages (from gensim) (1.6.2)\n",
      "Installing collected packages: smart-open, gensim\n",
      "Successfully installed gensim-4.2.0 smart-open-6.0.0\n",
      "Note: you may need to restart the kernel to use updated packages.\n"
     ]
    }
   ],
   "source": [
    "pip install -U gensim\n"
   ]
  },
  {
   "cell_type": "code",
   "execution_count": 3,
   "id": "82712c87",
   "metadata": {},
   "outputs": [
    {
     "name": "stdout",
     "output_type": "stream",
     "text": [
      "Collecting twython\n",
      "  Downloading twython-3.9.1-py3-none-any.whl (33 kB)\n",
      "Requirement already satisfied: requests>=2.1.0 in ./opt/anaconda3/lib/python3.8/site-packages (from twython) (2.25.1)\n",
      "Collecting requests-oauthlib>=0.4.0\n",
      "  Downloading requests_oauthlib-1.3.1-py2.py3-none-any.whl (23 kB)\n",
      "Requirement already satisfied: chardet<5,>=3.0.2 in ./opt/anaconda3/lib/python3.8/site-packages (from requests>=2.1.0->twython) (4.0.0)\n",
      "Requirement already satisfied: urllib3<1.27,>=1.21.1 in ./opt/anaconda3/lib/python3.8/site-packages (from requests>=2.1.0->twython) (1.26.4)\n",
      "Requirement already satisfied: certifi>=2017.4.17 in ./opt/anaconda3/lib/python3.8/site-packages (from requests>=2.1.0->twython) (2020.12.5)\n",
      "Requirement already satisfied: idna<3,>=2.5 in ./opt/anaconda3/lib/python3.8/site-packages (from requests>=2.1.0->twython) (2.10)\n",
      "Collecting oauthlib>=3.0.0\n",
      "  Downloading oauthlib-3.2.0-py3-none-any.whl (151 kB)\n",
      "\u001b[K     |████████████████████████████████| 151 kB 451 kB/s eta 0:00:01\n",
      "\u001b[?25hInstalling collected packages: oauthlib, requests-oauthlib, twython\n",
      "Successfully installed oauthlib-3.2.0 requests-oauthlib-1.3.1 twython-3.9.1\n",
      "Note: you may need to restart the kernel to use updated packages.\n"
     ]
    }
   ],
   "source": [
    "pip install twython"
   ]
  },
  {
   "cell_type": "code",
   "execution_count": 4,
   "id": "cebdd0ac",
   "metadata": {},
   "outputs": [],
   "source": [
    "from konlpy. corpus import kobill\n",
    "files_ko = kobill.fileids()\n",
    "doc_ko = kobill.open('1809890.txt').read()"
   ]
  },
  {
   "cell_type": "code",
   "execution_count": 7,
   "id": "dcbaf6d2",
   "metadata": {},
   "outputs": [],
   "source": [
    "from konlpy.tag import Okt; t = Okt()\n",
    "tokens_ko = t.morphs(doc_ko)"
   ]
  },
  {
   "cell_type": "code",
   "execution_count": 8,
   "id": "f8cc3ec9",
   "metadata": {},
   "outputs": [],
   "source": [
    "import nltk\n",
    "ko = nltk.Text(tokens_ko, name='대한민국 국회 의안 제 180980호')"
   ]
  },
  {
   "cell_type": "code",
   "execution_count": 9,
   "id": "bce6683c",
   "metadata": {},
   "outputs": [
    {
     "name": "stdout",
     "output_type": "stream",
     "text": [
      "1777\n",
      "476\n"
     ]
    },
    {
     "data": {
      "text/plain": [
       "FreqDist({'\\n\\n': 127, '.': 49, '의': 46, '육아휴직': 38, '을': 28, '(': 27, ')': 26, '이': 25, '자': 24, '에': 23, ...})"
      ]
     },
     "execution_count": 9,
     "metadata": {},
     "output_type": "execute_result"
    }
   ],
   "source": [
    "print(len(ko.tokens))\n",
    "print(len(set(ko.tokens)))\n",
    "ko.vocab()"
   ]
  },
  {
   "cell_type": "code",
   "execution_count": 15,
   "id": "3612c5b0",
   "metadata": {},
   "outputs": [],
   "source": [
    "from matplotlib import font_manager, rc\n",
    "font_fname = '/Users/roiii/Library/Fonts/GothicA1-Medium.ttf'     # A font of your choice\n",
    "font_name = font_manager.FontProperties(fname=font_fname).get_name()\n",
    "rc('font', family=font_name)"
   ]
  },
  {
   "cell_type": "code",
   "execution_count": 16,
   "id": "e26e70fc",
   "metadata": {},
   "outputs": [
    {
     "data": {
      "image/png": "[encoded data removed]",
      "text/plain": [
       "<Figure size 432x288 with 1 Axes>"
      ]
     },
     "metadata": {
      "needs_background": "light"
     },
     "output_type": "display_data"
    },
    {
     "data": {
      "text/plain": [
       "<AxesSubplot:xlabel='Samples', ylabel='Counts'>"
      ]
     },
     "execution_count": 16,
     "metadata": {},
     "output_type": "execute_result"
    }
   ],
   "source": [
    "ko.plot(10)"
   ]
  },
  {
   "cell_type": "code",
   "execution_count": 17,
   "id": "ff2d1842",
   "metadata": {},
   "outputs": [
    {
     "data": {
      "text/plain": [
       "6"
      ]
     },
     "execution_count": 17,
     "metadata": {},
     "output_type": "execute_result"
    }
   ],
   "source": [
    "ko.count('초등학교')"
   ]
  },
  {
   "cell_type": "code",
   "execution_count": 18,
   "id": "95fa449c",
   "metadata": {},
   "outputs": [
    {
     "data": {
      "image/png": "[encoded data removed]",
      "text/plain": [
       "<Figure size 432x288 with 1 Axes>"
      ]
     },
     "metadata": {
      "needs_background": "light"
     },
     "output_type": "display_data"
    }
   ],
   "source": [
    "ko.dispersion_plot(['육아휴직','초등학교','공무원'])"
   ]
  },
  {
   "cell_type": "code",
   "execution_count": 21,
   "id": "eeeb0dec",
   "metadata": {},
   "outputs": [],
   "source": [
    "parser_ko = nltk.RegexpParser(\"NP: {<Adjective>*<Noun>*}\")\n",
    "chunks_ko = parser_ko.parse(tags_ko)\n",
    "chunks_ko.draw()"
   ]
  },
  {
   "cell_type": "code",
   "execution_count": 25,
   "id": "c59f1e87",
   "metadata": {},
   "outputs": [
    {
     "name": "stdout",
     "output_type": "stream",
     "text": [
      "zsh:1: command not found: jupyter\r\n"
     ]
    }
   ],
   "source": [
    "!jupyter --paths"
   ]
  },
  {
   "cell_type": "code",
   "execution_count": null,
   "id": "64fdf666",
   "metadata": {},
   "outputs": [],
   "source": []
  }
 ],
 "metadata": {
  "kernelspec": {
   "display_name": "Python 3",
   "language": "python",
   "name": "python3"
  },
  "language_info": {
   "codemirror_mode": {
    "name": "ipython",
    "version": 3
   },
   "file_extension": ".py",
   "mimetype": "text/x-python",
   "name": "python",
   "nbconvert_exporter": "python",
   "pygments_lexer": "ipython3",
   "version": "3.8.8"
  }
 },
 "nbformat": 4,
 "nbformat_minor": 5
}
